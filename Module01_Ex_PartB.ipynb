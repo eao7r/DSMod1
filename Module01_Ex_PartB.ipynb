{
  "nbformat": 4,
  "nbformat_minor": 0,
  "metadata": {
    "colab": {
      "name": "Module01_Ex_PartB.ipynb",
      "provenance": [],
      "collapsed_sections": []
    },
    "kernelspec": {
      "name": "python3",
      "display_name": "Python 3"
    },
    "language_info": {
      "name": "python"
    }
  },
  "cells": [
    {
      "cell_type": "markdown",
      "metadata": {
        "id": "SiyzTSyhQ49p"
      },
      "source": [
        ""
      ]
    },
    {
      "cell_type": "markdown",
      "metadata": {
        "id": "nXlYW7b9RGeD"
      },
      "source": [
        "**Module 01 Exercise: Python Part B**  \n",
        "**Andy Ortiz**  \n",
        "**eao7r**"
      ]
    },
    {
      "cell_type": "markdown",
      "metadata": {
        "id": "BXcDQ9rmRVvQ"
      },
      "source": [
        "1) Create a long sentence of words [assume NO punctuation]."
      ]
    },
    {
      "cell_type": "code",
      "metadata": {
        "colab": {
          "base_uri": "https://localhost:8080/"
        },
        "id": "XIQ2Li0DQxNB",
        "outputId": "077fa388-b62b-433b-c3bc-afd252592a7a"
      },
      "source": [
        "sentence = \"This is a sentence of words put together by me with a couple of duplicate words\"\n",
        "print(sentence)"
      ],
      "execution_count": 38,
      "outputs": [
        {
          "output_type": "stream",
          "text": [
            "This is a sentence of words put together by me with a couple of duplicate words\n"
          ],
          "name": "stdout"
        }
      ]
    },
    {
      "cell_type": "markdown",
      "metadata": {
        "id": "KEi6lt4cRsUO"
      },
      "source": [
        "2) Put the words into a list.  "
      ]
    },
    {
      "cell_type": "code",
      "metadata": {
        "colab": {
          "base_uri": "https://localhost:8080/"
        },
        "id": "-i8tg8nyR2Jg",
        "outputId": "244a5f51-107c-4ca2-8a4d-a5cfb94e4d6e"
      },
      "source": [
        "wordlist = sentence.split(\" \")\n",
        "print(wordlist)"
      ],
      "execution_count": 39,
      "outputs": [
        {
          "output_type": "stream",
          "text": [
            "['This', 'is', 'a', 'sentence', 'of', 'words', 'put', 'together', 'by', 'me', 'with', 'a', 'couple', 'of', 'duplicate', 'words']\n"
          ],
          "name": "stdout"
        }
      ]
    },
    {
      "cell_type": "markdown",
      "metadata": {
        "id": "GNc-2UZ2SJ9o"
      },
      "source": [
        "3) Use a list comprehension to return the word along  \n",
        "with the length of it. Use this →  (word, len(word))."
      ]
    },
    {
      "cell_type": "code",
      "metadata": {
        "colab": {
          "base_uri": "https://localhost:8080/"
        },
        "id": "nZ6760MXSbKS",
        "outputId": "bd3b466f-5a77-40f8-8217-1e06979522fa"
      },
      "source": [
        "[(word, len(word)) for word in wordlist]"
      ],
      "execution_count": 40,
      "outputs": [
        {
          "output_type": "execute_result",
          "data": {
            "text/plain": [
              "[('This', 4),\n",
              " ('is', 2),\n",
              " ('a', 1),\n",
              " ('sentence', 8),\n",
              " ('of', 2),\n",
              " ('words', 5),\n",
              " ('put', 3),\n",
              " ('together', 8),\n",
              " ('by', 2),\n",
              " ('me', 2),\n",
              " ('with', 4),\n",
              " ('a', 1),\n",
              " ('couple', 6),\n",
              " ('of', 2),\n",
              " ('duplicate', 9),\n",
              " ('words', 5)]"
            ]
          },
          "metadata": {},
          "execution_count": 40
        }
      ]
    },
    {
      "cell_type": "markdown",
      "metadata": {
        "id": "irAwLuFiYWpR"
      },
      "source": [
        "4) Finally, print out all the words (along with the word length)"
      ]
    },
    {
      "cell_type": "code",
      "metadata": {
        "colab": {
          "base_uri": "https://localhost:8080/"
        },
        "id": "_jz6YWgNYbuM",
        "outputId": "7f793843-cf45-4fff-b377-8f864404095b"
      },
      "source": [
        "words = [(word, len(word)) for word in wordlist]\n",
        "for pair in words:\n",
        "  print(pair[0] + \": \" + str(pair[1]))"
      ],
      "execution_count": 41,
      "outputs": [
        {
          "output_type": "stream",
          "text": [
            "This: 4\n",
            "is: 2\n",
            "a: 1\n",
            "sentence: 8\n",
            "of: 2\n",
            "words: 5\n",
            "put: 3\n",
            "together: 8\n",
            "by: 2\n",
            "me: 2\n",
            "with: 4\n",
            "a: 1\n",
            "couple: 6\n",
            "of: 2\n",
            "duplicate: 9\n",
            "words: 5\n"
          ],
          "name": "stdout"
        }
      ]
    },
    {
      "cell_type": "markdown",
      "metadata": {
        "id": "HFBxmVE8bZqb"
      },
      "source": [
        "5) Print out the word-size tuples in sorted order  \n",
        "by length (smallest to largest)"
      ]
    },
    {
      "cell_type": "code",
      "metadata": {
        "colab": {
          "base_uri": "https://localhost:8080/"
        },
        "id": "4KbDTh2Ebm66",
        "outputId": "123a5e54-af89-4868-a05f-c16d30f1e13d"
      },
      "source": [
        "words = [(word, len(word)) for word in wordlist]\n",
        "# use an anonymous function to sort by the second element in the tuple\n",
        "words.sort(key = lambda x: x[1])\n",
        "print(\"ascending words:\", words)\n",
        "print(\"number of words:\", len(words))"
      ],
      "execution_count": 42,
      "outputs": [
        {
          "output_type": "stream",
          "text": [
            "ascending words: [('a', 1), ('a', 1), ('is', 2), ('of', 2), ('by', 2), ('me', 2), ('of', 2), ('put', 3), ('This', 4), ('with', 4), ('words', 5), ('words', 5), ('couple', 6), ('sentence', 8), ('together', 8), ('duplicate', 9)]\n",
            "number of words: 16\n"
          ],
          "name": "stdout"
        }
      ]
    },
    {
      "cell_type": "markdown",
      "metadata": {
        "id": "QrHT2RMZfzJS"
      },
      "source": [
        "6) Print out only unique words (i.e., no repetitions)."
      ]
    },
    {
      "cell_type": "code",
      "metadata": {
        "colab": {
          "base_uri": "https://localhost:8080/"
        },
        "id": "odwiKVg6f1l2",
        "outputId": "89da0416-3bc5-4772-e77b-7595761a0a4d"
      },
      "source": [
        "# use the set() function to obtain unique tuples\n",
        "words = [(word, len(word)) for word in set(wordlist)]\n",
        "words.sort(key = lambda x: x[1])\n",
        "print(\"unique ascending words:\", words)\n",
        "print(\"number of unique words:\", len(words))"
      ],
      "execution_count": 43,
      "outputs": [
        {
          "output_type": "stream",
          "text": [
            "unique ascending words: [('a', 1), ('by', 2), ('of', 2), ('is', 2), ('me', 2), ('put', 3), ('This', 4), ('with', 4), ('words', 5), ('couple', 6), ('sentence', 8), ('together', 8), ('duplicate', 9)]\n",
            "number of unique words: 13\n"
          ],
          "name": "stdout"
        }
      ]
    }
  ]
}