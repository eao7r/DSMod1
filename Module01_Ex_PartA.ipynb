{
  "nbformat": 4,
  "nbformat_minor": 0,
  "metadata": {
    "colab": {
      "name": "Module01_Ex_PartA.ipynb",
      "provenance": [],
      "collapsed_sections": []
    },
    "kernelspec": {
      "name": "python3",
      "display_name": "Python 3"
    },
    "language_info": {
      "name": "python"
    }
  },
  "cells": [
    {
      "cell_type": "markdown",
      "metadata": {
        "id": "KaJL18sz42uo"
      },
      "source": [
        "**Module 01 Exercise: Python Part A**  \n",
        "**Andy Ortiz**  \n",
        "**eao7r**"
      ]
    },
    {
      "cell_type": "markdown",
      "metadata": {
        "id": "QPaKsOlX8EYe"
      },
      "source": [
        "1) Prompt user for:   First name, Last name,  and Age."
      ]
    },
    {
      "cell_type": "code",
      "metadata": {
        "id": "D1x8p5Aj2CB3"
      },
      "source": [
        "print('No error checking is done in this exercise.')\n",
        "print('Please enter your information carefully!')\n",
        "print('')\n",
        "print('Enter your first name:')\n",
        "fname = input()\n",
        "print('Enter your last name:')\n",
        "lname = input()\n",
        "print('Enter your age in years:')\n",
        "age = input()"
      ],
      "execution_count": null,
      "outputs": []
    },
    {
      "cell_type": "markdown",
      "metadata": {
        "id": "HJDFcX9C9V7o"
      },
      "source": [
        "2) After fetching First name, Last name, and Age, eliminate any whitespace from  \n",
        "either the left-hand side or the right-hand side."
      ]
    },
    {
      "cell_type": "code",
      "metadata": {
        "id": "PJC16imo-Nx3"
      },
      "source": [
        "# trim whitespace from right-hand sides\n",
        "fname = fname.rstrip()\n",
        "lname = lname.rstrip()\n",
        "age = age.rstrip()"
      ],
      "execution_count": 12,
      "outputs": []
    },
    {
      "cell_type": "markdown",
      "metadata": {
        "id": "LdqpuePB5wYf"
      },
      "source": [
        ""
      ]
    },
    {
      "cell_type": "markdown",
      "metadata": {
        "id": "nEfL26ob__OO"
      },
      "source": [
        "3) Concatenate the First name and the Last name into a single string  \n",
        "so it looks like “Last-First” (with a dash separating the last and first names)."
      ]
    },
    {
      "cell_type": "code",
      "metadata": {
        "colab": {
          "base_uri": "https://localhost:8080/"
        },
        "id": "GwSJmN83AHTL",
        "outputId": "8d9c50b1-1bdc-42c9-d6b7-044cb8722aed"
      },
      "source": [
        "fullname = lname + \"-\" + fname\n",
        "print(fullname)"
      ],
      "execution_count": 13,
      "outputs": [
        {
          "output_type": "stream",
          "text": [
            "Ortiz-Andy\n"
          ],
          "name": "stdout"
        }
      ]
    },
    {
      "cell_type": "markdown",
      "metadata": {
        "id": "qCegVOORAs6M"
      },
      "source": [
        "4) Create a dictionary and add this information to it where the  \n",
        "name (“Last-First”) is the key and the age (an integer) is the value."
      ]
    },
    {
      "cell_type": "code",
      "metadata": {
        "colab": {
          "base_uri": "https://localhost:8080/"
        },
        "id": "QsFgTSWjA1Ay",
        "outputId": "9d179742-3b46-4b28-d566-d655166a96fd"
      },
      "source": [
        "people = {fullname: int(age)}\n",
        "print(people)"
      ],
      "execution_count": 14,
      "outputs": [
        {
          "output_type": "stream",
          "text": [
            "{'Ortiz-Andy': 69}\n"
          ],
          "name": "stdout"
        }
      ]
    },
    {
      "cell_type": "markdown",
      "metadata": {
        "id": "H19BiWjWCmXa"
      },
      "source": [
        "5) Simulate gathering information for four people. Your program  \n",
        "should add each person’s information to the dictionary as described."
      ]
    },
    {
      "cell_type": "code",
      "metadata": {
        "id": "f8hubp5YCs2Y"
      },
      "source": [
        "print(\"Now let's create a list of four people\")\n",
        "# reset the input variables\n",
        "fname = \"\"\n",
        "lname = \"\"\n",
        "fullname = \"\"\n",
        "age = \"\"\n",
        "\n",
        "# initialize the dictionary\n",
        "people = {}\n",
        "\n",
        "# put all of above code into a loop\n",
        "# initialize the counter\n",
        "ctr = 1\n",
        "while ctr < 5:\n",
        "  print('Enter your first name:')\n",
        "  fname = input()\n",
        "  print('Enter your last name:')\n",
        "  lname = input()\n",
        "  print('Enter your age in years:')\n",
        "  age = input()\n",
        "  fname = fname.rstrip()\n",
        "  lname = lname.rstrip()\n",
        "  age = age.rstrip()\n",
        "  fullname = lname + \"-\" + fname\n",
        "  people[fullname] = age\n",
        "  print(\"Your people list:\", people)\n",
        "  ctr = ctr + 1\n",
        "\n",
        "\n"
      ],
      "execution_count": null,
      "outputs": []
    },
    {
      "cell_type": "markdown",
      "metadata": {
        "id": "dy_xaY42EYnq"
      },
      "source": [
        "6) Print out the dictionary to a simple text file (e.g., “myOutput.txt”). "
      ]
    },
    {
      "cell_type": "code",
      "metadata": {
        "id": "Pnb7RWxBEfXk"
      },
      "source": [
        "with open(\"myOutput.txt\", 'w') as f: \n",
        "  for key, value in people.items(): \n",
        "    f.write('%s:%s\\n' % (key, value))\n",
        "f.close()\n"
      ],
      "execution_count": 18,
      "outputs": []
    }
  ]
}